{
 "cells": [
  {
   "cell_type": "code",
   "execution_count": 9,
   "metadata": {},
   "outputs": [],
   "source": [
    "import unittest\n",
    "class testFib(unittest.TestCase):\n",
    "\n",
    "    def test1(self):\n",
    "        n = 0\n",
    "        self.assertEqual(fib(n), 0)\n",
    "    def test2(self):\n",
    "        n = 1\n",
    "        self.assertEqual(fib(n), 1)\n",
    "    def test3(self):\n",
    "        n = 2\n",
    "        self.assertEqual(fib(n), 1)\n",
    "    def test4(self):\n",
    "        n = 3\n",
    "        self.assertEqual(fib(n), 2)\n",
    "    def test5(self):\n",
    "        n = 10\n",
    "        self.assertEqual(fib(n), 55)\n",
    "    def test6(self):\n",
    "        n = 20\n",
    "        self.assertEqual(fib(n), 6765)\n",
    "    def test7(self):\n",
    "        n = 30\n",
    "        self.assertEqual(fib(n), 832040)\n",
    "    def test8(self):\n",
    "        n = 50\n",
    "        self.assertEqual(fib(n), 12586269025)\n",
    "    def test9(self):\n",
    "        n = 70\n",
    "        self.assertEqual(fib(n), 190392490709135)\n",
    "    def test10(self):\n",
    "        n = 90\n",
    "        self.assertEqual(fib(n), 2880067194370816120)\n",
    "        "
   ]
  },
  {
   "cell_type": "code",
   "execution_count": 10,
   "metadata": {},
   "outputs": [],
   "source": [
    "def test_all():\n",
    "        test = testFib()\n",
    "        test.test1()\n",
    "        test.test2()\n",
    "        test.test3()\n",
    "        test.test4()\n",
    "        test.test5()\n",
    "        test.test6()\n",
    "        test.test7()\n",
    "        test.test8()\n",
    "        test.test9()\n",
    "        test.test10()"
   ]
  },
  {
   "cell_type": "code",
   "execution_count": 11,
   "metadata": {},
   "outputs": [],
   "source": [
    "def fibRec(n, aux): \n",
    "    if n<=1: \n",
    "        aux[n] = n \n",
    "        \n",
    "    if aux[n] is -1: \n",
    "        aux[n] = fibRec(n-1,aux) + fibRec(n-2,aux)  \n",
    "        \n",
    "    return aux[n] \n",
    "\n",
    "def fib(n): \n",
    "    aux = [-1]*(n+1) \n",
    "    return fibRec(n, aux)\n"
   ]
  },
  {
   "cell_type": "code",
   "execution_count": 12,
   "metadata": {},
   "outputs": [],
   "source": [
    "test_all()"
   ]
  },
  {
   "cell_type": "code",
   "execution_count": null,
   "metadata": {},
   "outputs": [],
   "source": []
  }
 ],
 "metadata": {
  "kernelspec": {
   "display_name": "Python 3",
   "language": "python",
   "name": "python3"
  },
  "language_info": {
   "codemirror_mode": {
    "name": "ipython",
    "version": 3
   },
   "file_extension": ".py",
   "mimetype": "text/x-python",
   "name": "python",
   "nbconvert_exporter": "python",
   "pygments_lexer": "ipython3",
   "version": "3.7.4"
  }
 },
 "nbformat": 4,
 "nbformat_minor": 2
}
