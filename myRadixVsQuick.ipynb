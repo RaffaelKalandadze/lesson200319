{
 "cells": [
  {
   "cell_type": "markdown",
   "metadata": {},
   "source": [
    "# Radix Sort "
   ]
  },
  {
   "cell_type": "code",
   "execution_count": 6,
   "metadata": {},
   "outputs": [],
   "source": [
    "def countingSort(arr, point):\n",
    "    res = [0] * len(arr)\n",
    "    data = [0] * 10\n",
    "    \n",
    "    for i in range(0, len(arr)):\n",
    "        ind = 0\n",
    "        if(point<=len(str(arr[i]))):\n",
    "            ind = int(str(arr[i])[-point])\n",
    "        data[ind] += 1\n",
    "\n",
    "    for i in range(1, 10):\n",
    "        data[i] += data[i-1]\n",
    "\n",
    "    k = len(arr) - 1\n",
    "    while(k>=0):\n",
    "        ind = 0\n",
    "        if(point<=len(str(arr[k]))):\n",
    "            ind = int(str(arr[k])[-point])\n",
    "        res[data[ind]-1] = arr[k]\n",
    "        data[ind] -= 1\n",
    "        k -= 1\n",
    "\n",
    "    for i in range(0, len(arr)):\n",
    "        arr[i] = res[i]\n",
    "\n",
    "def radixSort(arr):\n",
    "    Max = max(arr)\n",
    "    point = 1\n",
    "    while(point<=len(str(Max))):\n",
    "        countingSort(arr, point)\n",
    "        point+=1"
   ]
  },
  {
   "cell_type": "markdown",
   "metadata": {},
   "source": [
    "# Quick Sort"
   ]
  },
  {
   "cell_type": "code",
   "execution_count": 7,
   "metadata": {},
   "outputs": [],
   "source": [
    "def swap(arr,i,j):\n",
    "    temp = arr[i]\n",
    "    arr[i] = arr[j]\n",
    "    arr[j] = temp\n",
    "    \n",
    "def partition(arr, first, last):\n",
    "    pointer = first\n",
    "    for i in range(first, last):\n",
    "        if(arr[i] < arr[last]):\n",
    "            swap(arr,pointer,i)\n",
    "            pointer += 1\n",
    "    \n",
    "    swap(arr,pointer,last)\n",
    "    return pointer\n",
    "\n",
    "def quickSort(arr, i, j):\n",
    "    if(j <= i):\n",
    "        return\n",
    "    p = partition(arr, i, j)\n",
    "    quickSort(arr, i, p-1)\n",
    "    quickSort(arr, p+1, j)"
   ]
  },
  {
   "cell_type": "markdown",
   "metadata": {},
   "source": [
    "# Tests and compare Radix VS Quick"
   ]
  },
  {
   "cell_type": "code",
   "execution_count": 17,
   "metadata": {},
   "outputs": [],
   "source": [
    "import unittest\n",
    "import time\n",
    "import random\n",
    "class tests(unittest.TestCase):\n",
    "    \n",
    "    def testOneElement(self):\n",
    "        arr = [1]\n",
    "        radixSort(arr)\n",
    "        expected = [1]\n",
    "        self.assertEqual(expected, arr)\n",
    "        \n",
    "    def testSimpleUnorder(self):\n",
    "        arr = [7,2]\n",
    "        quickSort(arr, 0, len(arr)-1)\n",
    "        expected = [2,7]\n",
    "        self.assertEqual(expected, arr)\n",
    "\n",
    "    def testSimpleOrder(self):\n",
    "        arr = [2,7]\n",
    "        quickSort(arr, 0, len(arr)-1)\n",
    "        expected = [2,7]\n",
    "        self.assertEqual(expected, arr)\n",
    "\n",
    "    def testUnorder(self):\n",
    "        arr = [10,1,7,2,8,4,6,3,0,5,9]\n",
    "        radixSort(arr)\n",
    "        expected = [0,1,2,3,4,5,6,7,8,9,10]\n",
    "        self.assertEqual(expected, arr)\n",
    "\n",
    "    def testOrder(self):\n",
    "        arr = [1,2,3,4,5,6,7,8,9]\n",
    "        radixSort(arr)\n",
    "        expected = [1,2,3,4,5,6,7,8,9]\n",
    "        self.assertEqual(expected, arr)\n",
    "        \n",
    "    def testSameNumber(self):\n",
    "        arr = [1,1,1,1,1]\n",
    "        radixSort(arr)\n",
    "        expected = [1,1,1,1,1]\n",
    "        self.assertEqual(expected, arr)\n",
    "        \n",
    "\n",
    "    def testTime(self):\n",
    "        array1 = random.choices(range(1,100), k=100000)\n",
    "        array2 = array1.copy()\n",
    "\n",
    "        radixStart = time.time()\n",
    "        radixSort(array1) \n",
    "        radixSstop = time.time()\n",
    "        radixSortTime = radixSstop-radixStart\n",
    "\n",
    "        quickStart = time.time()\n",
    "        quickSort(array2,0,len(array2)-1) \n",
    "        quickStop = time.time()\n",
    "        quickSortTime = quickStop-quickStart\n",
    "        return radixSortTime,quickSortTime"
   ]
  },
  {
   "cell_type": "code",
   "execution_count": 18,
   "metadata": {},
   "outputs": [],
   "source": [
    "def test_all():\n",
    "        test = tests()\n",
    "        test.testOneElement()\n",
    "        test.testSimpleOrder()\n",
    "        test.testSimpleUnorder()\n",
    "        test.testOrder()\n",
    "        test.testUnorder()\n",
    "        test.testSameNumber()\n",
    "        return test.testTime()"
   ]
  },
  {
   "cell_type": "code",
   "execution_count": 19,
   "metadata": {},
   "outputs": [
    {
     "name": "stdout",
     "output_type": "stream",
     "text": [
      "all test passed\n",
      "Radix 0.36955904960632324 \n",
      "Quick 3.5826406478881836\n"
     ]
    }
   ],
   "source": [
    "[radixTime,quickTime] = test_all()\n",
    "print(\"all test passed\")\n",
    "print(f\"Radix {radixTime} \\nQuick {quickTime}\")"
   ]
  },
  {
   "cell_type": "code",
   "execution_count": null,
   "metadata": {},
   "outputs": [],
   "source": []
  }
 ],
 "metadata": {
  "kernelspec": {
   "display_name": "Python 3",
   "language": "python",
   "name": "python3"
  },
  "language_info": {
   "codemirror_mode": {
    "name": "ipython",
    "version": 3
   },
   "file_extension": ".py",
   "mimetype": "text/x-python",
   "name": "python",
   "nbconvert_exporter": "python",
   "pygments_lexer": "ipython3",
   "version": "3.7.4"
  }
 },
 "nbformat": 4,
 "nbformat_minor": 2
}
